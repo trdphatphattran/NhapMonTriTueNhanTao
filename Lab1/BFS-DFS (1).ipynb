{
  "cells": [
    {
      "cell_type": "markdown",
      "metadata": {},
      "source": [
        "# LAB 1: Thuật Toán Tìm Kiếm Mù - Nhập Môn Trí Tuệ Nhân Tạo\n",
        "\n",
        "- **Thời lượng**: 2,5 giờ\n",
        "- **Mục đích**: Trang bị kiến thức và kỹ năng thực hành về các thuật toán tìm kiếm mù, cụ thể là Tìm kiếm theo Chiều rộng (Breadth-First Search - BFS) và Tìm kiếm theo Chiều sâu (Depth-First Search - DFS), áp dụng trên đồ thị không trọng số và có trọng số.\n",
        "- **Yêu cầu**: Sinh viên cần chuẩn bị máy tính cài đặt Python (phiên bản 3.7 trở lên) và môi trường thực thi Jupyter Notebook hoặc Google Colab.\n",
        "\n",
        "## Mục Tiêu\n",
        "1. Hiểu rõ khái niệm và cơ chế hoạt động của các thuật toán tìm kiếm mù trong trí tuệ nhân tạo.\n",
        "2. Thành thạo triển khai BFS và DFS trên các đồ thị vô hướng, bao gồm đồ thị không trọng số và có trọng số.\n",
        "3. Phân tích hạn chế của BFS và DFS khi áp dụng trên đồ thị có trọng số.\n",
        "4. Thực hiện minh họa thủ công và lập trình với chú thích rõ ràng để kiểm chứng kết quả tìm kiếm.\n",
        "\n",
        "## Cơ Sở Lý Thuyết\n",
        "\n",
        "### 1. Tìm Kiếm Mù\n",
        "Tìm kiếm mù (Uninformed Search) là các thuật toán tìm kiếm không sử dụng thông tin heuristic, duyệt qua không gian trạng thái theo cách có hệ thống, dựa trên cấu trúc bài toán.\n",
        "\n",
        "### 2. Tìm Kiếm theo Chiều Rộng (BFS)\n",
        "- **Nguyên lý**: Khám phá tất cả các nút ở mức hiện tại trước khi chuyển sang mức tiếp theo.\n",
        "- **Cấu trúc dữ liệu**: Hàng đợi (Queue).\n",
        "- **Đặc điểm**:\n",
        "  - Trong đồ thị không trọng số, BFS đảm bảo tìm đường đi ngắn nhất (theo số cạnh).\n",
        "  - Trong đồ thị có trọng số, BFS không đảm bảo đường đi có tổng trọng số nhỏ nhất, vì nó không xem xét trọng số của các cạnh.\n",
        "\n",
        "### 3. Tìm Kiếm theo Chiều Sâu (DFS)\n",
        "- **Nguyên lý**: Khám phá một nhánh đến tận cùng trước khi quay lại thử nhánh khác.\n",
        "- **Cấu trúc dữ liệu**: Ngăn xếp (Stack) hoặc đệ quy.\n",
        "- **Đặc điểm**:\n",
        "  - DFS không đảm bảo đường đi ngắn nhất trong cả đồ thị không trọng số và có trọng số.\n",
        "  - Kết quả phụ thuộc vào thứ tự duyệt các nút kề.\n",
        "\n",
        "### 4. Đồ Thị Không Trọng Số và Có Trọng Số\n",
        "- **Đồ thị không trọng số**: Các cạnh có trọng số ngầm định bằng 1. BFS tối ưu theo số cạnh.\n",
        "- **Đồ thị có trọng số**: Các cạnh có trọng số khác nhau (ví dụ: chi phí, khoảng cách). BFS và DFS không được thiết kế để tối ưu hóa tổng trọng số, dẫn đến kết quả không tối ưu.\n",
        "\n",
        "### 5. Bài Toán \n",
        "Cho các đồ thị vô hướng (không trọng số và có trọng số) biểu diễn mạng lưới hoặc mê cung. Nhiệm vụ là tìm đường đi từ nút bắt đầu (**S**) đến nút đích (**G** hoặc **H**) bằng BFS và DFS, thông qua minh họa thủ công và lập trình với chú thích chi tiết."
      ]
    },
    {
      "cell_type": "markdown",
      "metadata": {},
      "source": [
        "## Hướng Dẫn Thực Hành\n",
        "\n",
        "### Phần 1: Thiết Lập Môi Trường\n",
        "- **Yêu cầu**: Python 3.7+ và Jupyter Notebook hoặc Google Colab.\n",
        "- **Hướng dẫn**:\n",
        "  1. Mở file `.ipynb` này trong Jupyter Notebook hoặc tải lên Google Colab.\n",
        "  2. Chạy các ô mã Python để đảm bảo môi trường hoạt động.\n",
        "\n",
        "### Phần 2: Minh Họa Thủ Công BFS và DFS\n",
        "\n",
        "#### Đồ Thị Mẫu 1: Không Trọng Số\n",
        "##### Mermaid Diagram\n",
        "```mermaid\n",
        "graph TD\n",
        "    S --> A\n",
        "    S --> B\n",
        "    S --> C\n",
        "    A --> D\n",
        "    B --> E\n",
        "    D --> F\n",
        "    E --> G\n",
        "```\n",
        "- **Các cạnh**: S-A, S-B, S-C, A-D, B-E, D-F, E-G.\n",
        "- **Mục tiêu**: Tìm đường từ S đến G.\n",
        "\n",
        "**Minh họa BFS**:\n",
        "1. Khởi tạo: Hàng đợi = [(S, [S])], Đã thăm = {S}\n",
        "2. Lấy S, thêm A, B, C: Hàng đợi = [(A, [S, A]), (B, [S, B]), (C, [S, C])], Đã thăm = {S, A, B, C}\n",
        "3. Lấy A, thêm D: Hàng đợi = [(B, [S, B]), (C, [S, C]), (D, [S, A, D])], Đã thăm = {S, A, B, C, D}\n",
        "4. Lấy B, thêm E: Hàng đợi = [(C, [S, C]), (D, [S, A, D]), (E, [S, B, E])], Đã thăm = {S, A, B, C, D, E}\n",
        "5. Lấy C, không có kề mới: Hàng đợi = [(D, [S, A, D]), (E, [S, B, E])]\n",
        "6. Lấy D, thêm F: Hàng đợi = [(E, [S, B, E]), (F, [S, A, D, F])], Đã thăm = {S, A, B, C, D, E, F}\n",
        "7. Lấy E, thêm G: G là đích, trả về [S, B, E, G]\n",
        "\n",
        "**Kết quả**: Đường đi BFS: S → B → E → G (độ dài 3, ngắn nhất).\n",
        "\n",
        "**Minh họa DFS** :\n",
        "1. Khởi tạo: Ngăn xếp = [(S, [S])], Đã thăm = {S}\n",
        "2. Lấy S, thêm A: Ngăn xếp = [(A, [S, A])], Đã thăm = {S, A}\n",
        "3. Lấy A, thêm D: Ngăn xếp = [(D, [S, A, D])], Đã thăm = {S, A, D}\n",
        "4. Lấy D, thêm F: Ngăn xếp = [(F, [S, A, D, F])], Đã thăm = {S, A, D, F}\n",
        "5. Lấy F, không có kề mới: Ngăn xếp rỗng, quay lại S.\n",
        "6. Từ S, thêm B: Ngăn xếp = [(B, [S, B])], Đã thăm = {S, A, D, F, B}\n",
        "7. Lấy B, thêm E: Ngăn xếp = [(E, [S, B, E])], Đã thăm = {S, A, D, F, B, E}\n",
        "8. Lấy E, thêm G: G là đích, trả về [S, B, E, G]\n",
        "\n",
        "**Kết quả**: Đường đi DFS: S → B → E → G."
      ]
    },
    {
      "cell_type": "markdown",
      "metadata": {},
      "source": [
        "#### Đồ Thị Mẫu 5: Có Trọng Số\n",
        "##### Mermaid Diagram\n",
        "```mermaid\n",
        "graph TD\n",
        "    S -->|1| A\n",
        "    S -->|2| B\n",
        "    S -->|3| C\n",
        "    A -->|4| D\n",
        "    B -->|5| G\n",
        "    D -->|6| G\n",
        "    A -->|3| G\n",
        "```\n",
        "- **Các cạnh và trọng số**: S-A: 1, S-B: 2, S-C: 3, A-D: 4, B-G: 5, D-G: 6, A-G: 3.\n",
        "- **Mục tiêu**: Tìm đường từ S đến G.\n",
        "\n",
        "**Minh họa BFS**:\n",
        "1. Khởi tạo: Hàng đợi = [(S, [S], 0)], Đã thăm = {S}\n",
        "2. Lấy S, thêm A, B, C: Hàng đợi = [(A, [S, A], 1), (B, [S, B], 2), (C, [S, C], 3)], Đã thăm = {S, A, B, C}\n",
        "3. Lấy A, thêm D, G: Hàng đợi = [(B, [S, B], 2), (C, [S, C], 3), (D, [S, A, D], 5), (G, [S, A, G], 4)], Đã thăm = {S, A, B, C, D, G}\n",
        "4. Lấy B, thêm G (đã thăm): Hàng đợi = [(C, [S, C], 3), (D, [S, A, D], 5), (G, [S, A, G], 4)]\n",
        "5. Lấy G: G là đích, trả về [S, A, G], trọng số: 4\n",
        "\n",
        "**Kết quả**: Đường đi BFS: S → A → G (trọng số: 4). **Lưu ý**: BFS không đảm bảo tổng trọng số nhỏ nhất.\n",
        "\n",
        "**Minh họa DFS**:\n",
        "1. Khởi tạo: Ngăn xếp = [(S, [S], 0)], Đã thăm = {S}\n",
        "2. Lấy S, thêm A: Ngăn xếp = [(A, [S, A], 1)], Đã thăm = {S, A}\n",
        "3. Lấy A, thêm D, G: Ngăn xếp = [(D, [S, A, D], 5), (G, [S, A, G], 4)], Đã thăm = {S, A, D, G}\n",
        "4. Lấy G: G là đích, trả về [S, A, G], trọng số: 4\n",
        "\n",
        "**Kết quả**: Đường đi DFS: S → A → G (trọng số: 4). **Lưu ý**: DFS không đảm bảo tổng trọng số nhỏ nhất."
      ]
    },
    {
      "cell_type": "markdown",
      "metadata": {},
      "source": [
        "### Phần 3: Triển Khai Mã Python\n",
        "\n",
        "#### BFS trên Đồ Thị Không Trọng Số\n",
        "Chạy ô mã dưới đây để kiểm chứng BFS trên **Đồ thị mẫu 1**."
      ]
    },
    {
      "cell_type": "code",
      "execution_count": 1,
      "metadata": {},
      "outputs": [
        {
          "name": "stdout",
          "output_type": "stream",
          "text": [
            "Đường đi BFS trên Đồ thị mẫu 1: ['S', 'B', 'E', 'G']\n"
          ]
        }
      ],
      "source": [
        "from collections import deque\n",
        "\n",
        "def bfs(graph, start, goal):\n",
        "    # Khởi tạo hàng đợi với nút bắt đầu và đường đi ban đầu\n",
        "    queue = deque([(start, [start])])\n",
        "    # Khởi tạo tập hợp các nút đã thăm để tránh lặp\n",
        "    visited = set([start])\n",
        "    \n",
        "    # Lặp cho đến khi hàng đợi rỗng\n",
        "    while queue:\n",
        "        # Lấy nút đầu tiên và đường đi tương ứng từ hàng đợi\n",
        "        (node, path) = queue.popleft()\n",
        "        # Kiểm tra nếu nút hiện tại là đích\n",
        "        if node == goal:\n",
        "            return path\n",
        "        # Duyệt qua các nút kề của nút hiện tại\n",
        "        for neighbor in graph[node]:\n",
        "            # Nếu nút kề chưa được thăm\n",
        "            if neighbor not in visited:\n",
        "                # Thêm nút kề vào tập đã thăm\n",
        "                visited.add(neighbor)\n",
        "                # Thêm nút kề và đường đi mới vào hàng đợi\n",
        "                queue.append((neighbor, path + [neighbor]))\n",
        "    # Trả về None nếu không tìm thấy đường đi\n",
        "    return None\n",
        "\n",
        "# Định nghĩa Đồ thị mẫu 1 (không trọng số)\n",
        "graph1 = {\n",
        "    'S': ['A', 'B', 'C'],\n",
        "    'A': ['S', 'D'],\n",
        "    'B': ['S', 'E'],\n",
        "    'C': ['S'],\n",
        "    'D': ['A', 'F'],\n",
        "    'E': ['B', 'G'],\n",
        "    'F': ['D'],\n",
        "    'G': ['E']\n",
        "}\n",
        "\n",
        "# Chạy BFS và in kết quả\n",
        "path = bfs(graph1, 'S', 'G')\n",
        "print(\"Đường đi BFS trên Đồ thị mẫu 1:\", path)"
      ]
    },
    {
      "cell_type": "markdown",
      "metadata": {},
      "source": [
        "#### DFS trên Đồ Thị Không Trọng Số\n",
        "Chạy ô mã dưới đây để kiểm chứng DFS trên **Đồ thị mẫu 1**."
      ]
    },
    {
      "cell_type": "code",
      "execution_count": 8,
      "metadata": {},
      "outputs": [
        {
          "name": "stdout",
          "output_type": "stream",
          "text": [
            "Đường đi DFS trên Đồ thị mẫu 1: ['S', 'B', 'E', 'G']\n"
          ]
        }
      ],
      "source": [
        "def dfs(graph, start, goal, visited=None, path=None):\n",
        "    # Khởi tạo tập đã thăm và đường đi nếu chưa có\n",
        "    if visited is None:\n",
        "        visited = set()\n",
        "    if path is None:\n",
        "        path = [start]\n",
        "    \n",
        "    # Thêm nút hiện tại vào tập đã thăm\n",
        "    visited.add(start)\n",
        "    # Kiểm tra nếu nút hiện tại là đích\n",
        "    if start == goal:\n",
        "        return path\n",
        "    \n",
        "    # Duyệt qua các nút kề của nút hiện tại\n",
        "    for neighbor in graph[start]:\n",
        "        # Nếu nút kề chưa được thăm\n",
        "        if neighbor not in visited:\n",
        "            # Gọi đệ quy DFS trên nút kề với đường đi mới\n",
        "            new_path = dfs(graph, neighbor, goal, visited, path + [neighbor])\n",
        "            # Nếu tìm thấy đường đi, trả về\n",
        "            if new_path:\n",
        "                return new_path\n",
        "    # Trả về None nếu không tìm thấy đường đi\n",
        "    return None\n",
        "\n",
        "# Định nghĩa Đồ thị mẫu 1 (không trọng số)\n",
        "graph1 = {\n",
        "    'S': ['A', 'B', 'C'],\n",
        "    'A': ['S', 'D'],\n",
        "    'B': ['S', 'E'],\n",
        "    'C': ['S'],\n",
        "    'D': ['A', 'F'],\n",
        "    'E': ['B', 'G'],\n",
        "    'F': ['D'],\n",
        "    'G': ['E']\n",
        "}\n",
        "\n",
        "# Chạy DFS và in kết quả\n",
        "path = dfs(graph1, 'S', 'G')\n",
        "print(\"Đường đi DFS trên Đồ thị mẫu 1:\", path)"
      ]
    },
    {
      "cell_type": "markdown",
      "metadata": {},
      "source": [
        "#### BFS trên Đồ Thị Có Trọng Số\n",
        "Chạy ô mã dưới đây để kiểm chứng BFS trên **Đồ thị mẫu 5**."
      ]
    },
    {
      "cell_type": "code",
      "execution_count": 9,
      "metadata": {},
      "outputs": [
        {
          "name": "stdout",
          "output_type": "stream",
          "text": [
            "Đường đi BFS trên Đồ thị mẫu 5: ['S', 'A', 'G'] Tổng trọng số: 4\n"
          ]
        }
      ],
      "source": [
        "from collections import deque\n",
        "\n",
        "def bfs_weighted(graph, start, goal):\n",
        "    # Khởi tạo hàng đợi với nút bắt đầu, đường đi, và tổng trọng số\n",
        "    queue = deque([(start, [start], 0)])\n",
        "    # Khởi tạo tập hợp các nút đã thăm\n",
        "    visited = set([start])\n",
        "    \n",
        "    # Lặp cho đến khi hàng đợi rỗng\n",
        "    while queue:\n",
        "        # Lấy nút, đường đi, và tổng trọng số từ đầu hàng đợi\n",
        "        (node, path, total_weight) = queue.popleft()\n",
        "        # Kiểm tra nếu nút hiện tại là đích\n",
        "        if node == goal:\n",
        "            return path, total_weight\n",
        "        # Duyệt qua các nút kề và trọng số tương ứng\n",
        "        for neighbor, weight in graph[node]:\n",
        "            # Nếu nút kề chưa được thăm\n",
        "            if neighbor not in visited:\n",
        "                # Thêm nút kề vào tập đã thăm\n",
        "                visited.add(neighbor)\n",
        "                # Thêm nút kề, đường đi mới, và tổng trọng số cập nhật vào hàng đợi\n",
        "                queue.append((neighbor, path + [neighbor], total_weight + weight))\n",
        "    # Trả về None và 0 nếu không tìm thấy đường đi\n",
        "    return None, 0\n",
        "\n",
        "# Định nghĩa Đồ thị mẫu 5 (có trọng số)\n",
        "graph5 = {\n",
        "    'S': [('A', 1), ('B', 2), ('C', 3)],\n",
        "    'A': [('S', 1), ('D', 4), ('G', 3)],\n",
        "    'B': [('S', 2), ('G', 5)],\n",
        "    'C': [('S', 3)],\n",
        "    'D': [('A', 4), ('G', 6)],\n",
        "    'G': [('B', 5), ('D', 6), ('A', 3)]\n",
        "}\n",
        "\n",
        "# Chạy BFS và in kết quả\n",
        "path, weight = bfs_weighted(graph5, 'S', 'G')\n",
        "print(\"Đường đi BFS trên Đồ thị mẫu 5:\", path, \"Tổng trọng số:\", weight)"
      ]
    },
    {
      "cell_type": "markdown",
      "metadata": {},
      "source": [
        "#### DFS trên Đồ Thị Có Trọng Số\n",
        "Chạy ô mã dưới đây để kiểm chứng DFS trên **Đồ thị mẫu 5**."
      ]
    },
    {
      "cell_type": "code",
      "execution_count": 10,
      "metadata": {},
      "outputs": [
        {
          "name": "stdout",
          "output_type": "stream",
          "text": [
            "Đường đi DFS trên Đồ thị mẫu 5: ['S', 'A', 'D', 'G'] Tổng trọng số: 11\n"
          ]
        }
      ],
      "source": [
        "def dfs_weighted(graph, start, goal, visited=None, path=None, total_weight=0):\n",
        "    # Khởi tạo tập đã thăm và đường đi nếu chưa có\n",
        "    if visited is None:\n",
        "        visited = set()\n",
        "    if path is None:\n",
        "        path = [start]\n",
        "    \n",
        "    # Thêm nút hiện tại vào tập đã thăm\n",
        "    visited.add(start)\n",
        "    # Kiểm tra nếu nút hiện tại là đích\n",
        "    if start == goal:\n",
        "        return path, total_weight\n",
        "    \n",
        "    # Duyệt qua các nút kề và trọng số tương ứng\n",
        "    for neighbor, weight in graph[start]:\n",
        "        # Nếu nút kề chưa được thăm\n",
        "        if neighbor not in visited:\n",
        "            # Gọi đệ quy DFS trên nút kề với đường đi và tổng trọng số mới\n",
        "            new_path, new_weight = dfs_weighted(graph, neighbor, goal, visited, path + [neighbor], total_weight + weight)\n",
        "            # Nếu tìm thấy đường đi, trả về\n",
        "            if new_path:\n",
        "                return new_path, new_weight\n",
        "    # Trả về None và 0 nếu không tìm thấy đường đi\n",
        "    return None, 0\n",
        "\n",
        "# Định nghĩa Đồ thị mẫu 5 (có trọng số)\n",
        "graph5 = {\n",
        "    'S': [('A', 1), ('B', 2), ('C', 3)],\n",
        "    'A': [('S', 1), ('D', 4), ('G', 3)],\n",
        "    'B': [('S', 2), ('G', 5)],\n",
        "    'C': [('S', 3)],\n",
        "    'D': [('A', 4), ('G', 6)],\n",
        "    'G': [('B', 5), ('D', 6), ('A', 3)]\n",
        "}\n",
        "\n",
        "# Chạy DFS và in kết quả\n",
        "path, weight = dfs_weighted(graph5, 'S', 'G')\n",
        "print(\"Đường đi DFS trên Đồ thị mẫu 5:\", path, \"Tổng trọng số:\", weight)"
      ]
    },
    {
      "cell_type": "markdown",
      "metadata": {},
      "source": [
        "## Bài Tập Thực Hành Trong Lớp\n",
        "\n",
        "### Đồ Thị Mẫu Khác\n",
        "\n",
        "#### Đồ Thị Mẫu 2: Có Chu Trình, Không Trọng Số\n",
        "##### Mermaid Diagram\n",
        "```mermaid\n",
        "graph TD\n",
        "    S --> A\n",
        "    S --> B\n",
        "    A --> B\n",
        "    A --> C\n",
        "    B --> D\n",
        "    C --> D\n",
        "    D --> G\n",
        "```\n",
        "- **Các cạnh**: S-A, S-B, A-B, A-C, B-D, C-D, D-G.\n",
        "\n",
        "#### Đồ Thị Mẫu 3: Không Có Đường Đi Tới Đích, Không Trọng Số\n",
        "##### Mermaid Diagram\n",
        "```mermaid\n",
        "graph TD\n",
        "    S --> A\n",
        "    S --> B\n",
        "    A --> C\n",
        "    B --> D\n",
        "```\n",
        "- **Các cạnh**: S-A, S-B, A-C, B-D.\n",
        "\n",
        "#### Đồ Thị Mẫu 4: Dạng Lưới, Không Trọng Số\n",
        "##### Mermaid Diagram\n",
        "```mermaid\n",
        "graph TD\n",
        "    S --> A\n",
        "    S --> C\n",
        "    A --> B\n",
        "    A --> D\n",
        "    B --> E\n",
        "    C --> D\n",
        "    C --> F\n",
        "    D --> E\n",
        "    E --> G\n",
        "    F --> G\n",
        "```\n",
        "\n",
        "- **Các cạnh**: S-A, S-C, A-B, A-D, B-E, C-D, C-F, D-E, E-G, F-G.\n",
        "\n",
        "### Câu Hỏi Lý Thuyết\n",
        "1. Giải thích tại sao BFS đảm bảo đường đi ngắn nhất trên đồ thị không trọng số nhưng không đảm bảo trên đồ thị có trọng số. Sử dụng **Đồ thị mẫu 5** để minh họa.\n",
        "2. Trong **Đồ thị mẫu 2** (có chu trình), làm thế nào để BFS và DFS tránh lặp vô hạn?\n",
        "\n",
        "### Bài Tập Minh Họa Thủ Công\n",
        "1. Thực hiện BFS và DFS thủ công trên **Đồ thị mẫu 2**. Ghi lại trạng thái hàng đợi/ngăn xếp và tập đã thăm ở mỗi bước.\n",
        "2. Với **Đồ thị mẫu 3**, chạy BFS và DFS thủ công. Ghi lại kết quả khi không tìm thấy G.\n",
        "\n",
        "### Bài Tập Lập Trình\n",
        "1. Sử dụng BFS và DFS trên **Đồ thị mẫu 2** . Thêm chú thích chi tiết vào mã của bạn.\n",
        "2. Sửa mã BFS để đếm số nút đã thăm trên **Đồ thị mẫu 4**. In ra kết quả và đảm bảo mã có chú thích đầy đủ."
      ]
    },
    {
      "cell_type": "code",
      "execution_count": null,
      "metadata": {},
      "outputs": [],
      "source": [
        "# Trả lời câu hỏi lý thuyết ở đây:\n",
        "\n",
        "# 1. \n",
        "\n",
        "\n",
        "# 2. "
      ]
    },
    {
      "cell_type": "code",
      "execution_count": null,
      "metadata": {},
      "outputs": [],
      "source": [
        "# Minh hoạt thủ công ở đây: \n",
        "\n"
      ]
    },
    {
      "cell_type": "markdown",
      "metadata": {},
      "source": []
    },
    {
      "cell_type": "markdown",
      "metadata": {},
      "source": [
        "## Bài Tập lập trình"
      ]
    },
    {
      "cell_type": "markdown",
      "metadata": {},
      "source": [
        "#### Bài Tập Lập Trình: BFS trên Đồ Thị Mẫu 2\n",
        "Chạy BFS trên **Đồ thị mẫu 2** với chú thích chi tiết."
      ]
    },
    {
      "cell_type": "code",
      "execution_count": null,
      "metadata": {},
      "outputs": [
        {
          "name": "stdout",
          "output_type": "stream",
          "text": [
            "Đường đi BFS trên Đồ thị mẫu 2: ['S', 'B', 'D', 'G']\n"
          ]
        }
      ],
      "source": [
        "# code here"
      ]
    },
    {
      "cell_type": "markdown",
      "metadata": {},
      "source": [
        "#### Bài Tập Lập Trình: DFS trên Đồ Thị Mẫu 2\n",
        "Chạy DFS trên **Đồ thị mẫu 2** với chú thích chi tiết."
      ]
    },
    {
      "cell_type": "code",
      "execution_count": null,
      "metadata": {},
      "outputs": [
        {
          "name": "stdout",
          "output_type": "stream",
          "text": [
            "Đường đi DFS trên Đồ thị mẫu 2: ['S', 'A', 'B', 'D', 'G']\n"
          ]
        }
      ],
      "source": [
        "# code here"
      ]
    },
    {
      "cell_type": "markdown",
      "metadata": {},
      "source": [
        "### Sửa mã BFS để đếm số nút đã thăm trên **Đồ thị mẫu 4**. In ra kết quả và đảm bảo mã có chú thích đầy đủ."
      ]
    },
    {
      "cell_type": "code",
      "execution_count": null,
      "metadata": {},
      "outputs": [],
      "source": [
        "# code here"
      ]
    },
    {
      "cell_type": "code",
      "execution_count": null,
      "metadata": {},
      "outputs": [],
      "source": [
        "# code here"
      ]
    },
    {
      "cell_type": "code",
      "execution_count": null,
      "metadata": {},
      "outputs": [],
      "source": [
        "# code here"
      ]
    },
    {
      "cell_type": "markdown",
      "metadata": {},
      "source": [
        "## Bài Tập Về Nhà\n",
        "- **Thời hạn nộp**: 7 ngày kể từ ngày thực hành (tính đến 23:59 ngày 6/6/2025).\n",
        "- **Yêu cầu**:\n",
        "  - Hoàn thành các bài tập dưới đây.\n",
        "  - Nộp file Jupyter Notebook (.ipynb) đã hoàn thành và báo cáo (.docx hoặc .pdf).\n",
        "  - Báo cáo cần bao gồm:\n",
        "    - Minh họa thủ công cho ít nhất một đồ thị (Đồ thị mẫu 6 hoặc 7).\n",
        "    - Kết quả chạy mã Python với chú thích đầy đủ.\n",
        "    - Trả lời các câu hỏi lý thuyết và phân tích hạn chế của BFS/DFS.\n",
        "\n",
        "### Đồ Thị Mẫu Phức Tạp\n",
        "\n",
        "#### Đồ Thị Mẫu 6: Có Trọng Số, Nhiều Đường Đi\n",
        "##### Mermaid Diagram\n",
        "```mermaid\n",
        "graph TD\n",
        "    S -->|2| A\n",
        "    S -->|5| C\n",
        "    A -->|3| B\n",
        "    A -->|4| D\n",
        "    B -->|6| E\n",
        "    C -->|7| D\n",
        "    C -->|9| F\n",
        "    D -->|8| E\n",
        "    E -->|10| H\n",
        "    F -->|12| G\n",
        "    G -->|15| H\n",
        "```\n",
        "- **Các cạnh và trọng số**:\n",
        "  - S-A: 2, S-C: 5, A-B: 3, A-D: 4, B-E: 6, C-D: 7, C-F: 9, D-E: 8, E-H: 10, F-G: 12, G-H: 15.\n",
        "- **Đặc điểm**: Nhiều đường đi từ S đến H, có chu trình (A-D-E-B-A).\n",
        "\n",
        "#### Đồ Thị Mẫu 7: Không Trọng Số, Mật Độ Cao\n",
        "##### Mermaid Diagram\n",
        "```mermaid\n",
        "graph TD\n",
        "    S --> A\n",
        "    S --> D\n",
        "    S --> E\n",
        "    A --> B\n",
        "    A --> D\n",
        "    A --> E\n",
        "    B --> C\n",
        "    B --> E\n",
        "    B --> F\n",
        "    C --> F\n",
        "    C --> G\n",
        "    D --> E\n",
        "    E --> F\n",
        "    E --> H\n",
        "    F --> G\n",
        "    F --> H\n",
        "    G --> H\n",
        "\n",
        "```\n",
        "- **Các cạnh**: S-A, S-D, S-E, A-B, A-D, A-E, B-C, B-E, B-F, C-F, C-G, D-E, E-F, E-H, F-G, F-H, G-H.\n",
        "- **Đặc điểm**: Mật độ cạnh cao, nhiều chu trình, nhiều đường đi từ S đến H.\n",
        "\n",
        "### Câu Hỏi Lý Thuyết\n",
        "1. Phân tích tại sao BFS và DFS không đảm bảo đường đi có tổng trọng số nhỏ nhất trên **Đồ thị mẫu 6**. Đưa ra một ví dụ cụ thể về đường đi không tối ưu.\n",
        "2. Trong **Đồ thị mẫu 7**, tại sao BFS có thể tìm nhiều đường đi có độ dài bằng nhau từ S đến H? DFS có khả năng này không? Giải thích.\n",
        "\n",
        "### Bài Tập Minh Họa Thủ Công\n",
        "1. Thực hiện BFS và DFS thủ công trên **Đồ thị mẫu 6** để tìm đường từ S đến H. Ghi lại trạng thái hàng đợi/ngăn xếp, tập đã thăm, và tổng trọng số.\n",
        "2. Thực hiện BFS và DFS thủ công trên **Đồ thị mẫu 7**. Ghi lại tất cả các đường đi từ S đến H mà BFS tìm được.\n",
        "\n",
        "### Bài Tập Lập Trình\n",
        "1. Viết mã Python để chạy BFS và DFS trên **Đồ thị mẫu 6** và **Đồ thị mẫu 7**. Định nghĩa đồ thị dưới dạng từ điển và thêm chú thích chi tiết.\n",
        "2. Sửa mã BFS để lưu và in tất cả các đường đi từ S đến H trên **Đồ thị mẫu 7** (không trọng số). Đảm bảo mã có chú thích đầy đủ.\n",
        "3. Thêm một cạnh mới vào **Đồ thị mẫu 6** (ví dụ: B-H với trọng số 20). Chạy lại BFS và DFS, phân tích sự thay đổi trong đường đi và tổng trọng số.\n",
        "\n",
        "### Bài Tập Nâng Cao\n",
        "1. Đo thời gian chạy của BFS và DFS trên **Đồ thị mẫu 6** và **Đồ thị mẫu 7** bằng thư viện `time`. So sánh hiệu suất và thêm chú thích vào mã.\n",
        "2. Thiết kế một đồ thị có trọng số với ít nhất 10 nút và 15 cạnh. Chạy BFS và DFS, phân tích đường đi và tổng trọng số. Đảm bảo mã có chú thích chi tiết."
      ]
    },
    {
      "cell_type": "code",
      "execution_count": 1,
      "metadata": {},
      "outputs": [],
      "source": [
        "# code here"
      ]
    },
    {
      "cell_type": "code",
      "execution_count": 2,
      "metadata": {},
      "outputs": [],
      "source": [
        "# code here"
      ]
    },
    {
      "cell_type": "code",
      "execution_count": 3,
      "metadata": {},
      "outputs": [],
      "source": [
        "# code here"
      ]
    },
    {
      "cell_type": "code",
      "execution_count": 4,
      "metadata": {},
      "outputs": [],
      "source": [
        "# code here"
      ]
    },
    {
      "cell_type": "code",
      "execution_count": 5,
      "metadata": {},
      "outputs": [],
      "source": [
        "# code here"
      ]
    },
    {
      "cell_type": "markdown",
      "metadata": {},
      "source": [
        "## Hướng Dẫn Nộp Bài\n",
        "- **Về nhà**:\n",
        "  - Nộp file `.ipynb` này và báo cáo trước 23:59 ngày 6/6/2025 lên github.\n",
        "  - Báo cáo cần trình bày rõ ràng, có cấu trúc, bao gồm minh họa thủ công, kết quả mã nguồn với chú thích, và phân tích trong README."
      ]
    }
  ],
  "metadata": {
    "kernelspec": {
      "display_name": "Python 3",
      "language": "python",
      "name": "python3"
    },
    "language_info": {
      "codemirror_mode": {
        "name": "ipython",
        "version": 3
      },
      "file_extension": ".py",
      "mimetype": "text/x-python",
      "name": "python",
      "nbconvert_exporter": "python",
      "pygments_lexer": "ipython3",
      "version": "3.11.5"
    }
  },
  "nbformat": 4,
  "nbformat_minor": 4
}
